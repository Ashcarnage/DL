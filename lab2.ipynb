{
 "cells": [
  {
   "cell_type": "code",
   "execution_count": 1,
   "metadata": {},
   "outputs": [],
   "source": [
    "import torch \n",
    "import numpy as np \n"
   ]
  },
  {
   "cell_type": "code",
   "execution_count": 68,
   "metadata": {},
   "outputs": [
    {
     "data": {
      "text/plain": [
       "tensor(2., requires_grad=True)"
      ]
     },
     "execution_count": 68,
     "metadata": {},
     "output_type": "execute_result"
    }
   ],
   "source": [
    "a = torch.tensor(2.0,requires_grad=True)\n",
    "b = torch.tensor(2.0)\n",
    "a"
   ]
  },
  {
   "cell_type": "code",
   "execution_count": 69,
   "metadata": {},
   "outputs": [
    {
     "name": "stdout",
     "output_type": "stream",
     "text": [
      "tensor(64.)\n"
     ]
    }
   ],
   "source": [
    "def make_eq():\n",
    "    x = 2*a+3*b\n",
    "    y = 5*a*a+3*b*b\n",
    "    z = 2*x + 3*y\n",
    "    return z\n",
    "make_eq().backward()\n",
    "print(a.grad)"
   ]
  },
  {
   "cell_type": "markdown",
   "metadata": {},
   "source": [
    "# Q2"
   ]
  },
  {
   "cell_type": "code",
   "execution_count": 82,
   "metadata": {},
   "outputs": [],
   "source": [
    "b = torch.tensor(2.0)\n",
    "x = torch.tensor(3.0)\n",
    "w = torch.tensor(4.0,requires_grad=True)\n"
   ]
  },
  {
   "cell_type": "code",
   "execution_count": 80,
   "metadata": {},
   "outputs": [
    {
     "name": "stdout",
     "output_type": "stream",
     "text": [
      "tensor(3.0000)\n"
     ]
    }
   ],
   "source": [
    "relu = lambda x : torch.max(torch.tensor(0.0),x)\n",
    "u = w*x\n",
    "v = b+u\n",
    "b = relu(v)\n",
    "b.backward()\n",
    "print(w.grad)"
   ]
  },
  {
   "cell_type": "markdown",
   "metadata": {},
   "source": [
    "# Q3"
   ]
  },
  {
   "cell_type": "code",
   "execution_count": 83,
   "metadata": {},
   "outputs": [
    {
     "name": "stdout",
     "output_type": "stream",
     "text": [
      "tensor(2.4946e-06)\n"
     ]
    }
   ],
   "source": [
    "sigmoid= lambda x: 1/(1+torch.exp(-x))\n",
    "u = w*x\n",
    "v = b+u\n",
    "a = sigmoid(v)\n",
    "a.backward()\n",
    "print(w.grad)"
   ]
  },
  {
   "cell_type": "markdown",
   "metadata": {},
   "source": [
    "# Q4"
   ]
  },
  {
   "cell_type": "code",
   "execution_count": null,
   "metadata": {},
   "outputs": [
    {
     "name": "stdout",
     "output_type": "stream",
     "text": [
      "Analytical method :   -1.8621455069838646e-06\n",
      "Computational Graph:  tensor(-1.8621e-06)\n"
     ]
    }
   ],
   "source": [
    "def f(x):\n",
    "    return torch.exp(-x**2-2*x-torch.sin(x))\n",
    "def df(x):\n",
    "    return (-2*x-2-np.cos(x))*np.exp(-x**2-2*x-np.sin(x))\n",
    "x = torch.tensor(3.0,requires_grad=True)\n",
    "y = f(x)\n",
    "y_prime = df(3.0)\n",
    "y.backward()\n",
    "w = x.grad\n",
    "print(\"Analytical method :  \",y_prime)\n",
    "print(\"Computational Graph: \",w)\n",
    "\n"
   ]
  },
  {
   "cell_type": "markdown",
   "metadata": {},
   "source": [
    "# Q5"
   ]
  },
  {
   "cell_type": "code",
   "execution_count": 93,
   "metadata": {},
   "outputs": [
    {
     "name": "stdout",
     "output_type": "stream",
     "text": [
      "Analytical method :   tensor(993.)\n",
      "Computational Graph:  tensor(993.)\n"
     ]
    }
   ],
   "source": [
    "def f(x):\n",
    "    return 8*torch.pow(x,4)+3*torch.pow(x,3)+7*torch.pow(x,2)+6*x+3\n",
    "def df(x):\n",
    "    return 32*torch.pow(x,3)+9*torch.pow(x,2)+14*x+6\n",
    "x = torch.tensor(3.0,requires_grad=True)\n",
    "y = f(x)\n",
    "y_prime = df(torch.tensor(3.0))\n",
    "y.backward()\n",
    "w = x.grad\n",
    "print(\"Analytical method :  \",y_prime)\n",
    "print(\"Computational Graph: \",w)\n"
   ]
  }
 ],
 "metadata": {
  "kernelspec": {
   "display_name": "venv",
   "language": "python",
   "name": "python3"
  },
  "language_info": {
   "codemirror_mode": {
    "name": "ipython",
    "version": 3
   },
   "file_extension": ".py",
   "mimetype": "text/x-python",
   "name": "python",
   "nbconvert_exporter": "python",
   "pygments_lexer": "ipython3",
   "version": "3.12.3"
  }
 },
 "nbformat": 4,
 "nbformat_minor": 2
}
